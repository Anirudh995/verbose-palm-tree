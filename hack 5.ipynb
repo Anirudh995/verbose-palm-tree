{
 "cells": [
  {
   "cell_type": "code",
   "execution_count": 141,
   "metadata": {},
   "outputs": [],
   "source": [
    "import pandas as pd\n",
    "import numpy as np\n",
    "import matplotlib.pyplot as plt\n",
    "import seaborn as sns\n",
    "from sklearn.preprocessing import LabelEncoder,StandardScaler,MinMaxScaler\n",
    "from sklearn.model_selection import cross_val_score\n",
    "from sklearn.linear_model import LogisticRegression\n",
    "from sklearn.neighbors import KNeighborsClassifier\n",
    "from sklearn import metrics\n",
    "from sklearn.model_selection import train_test_split,GridSearchCV,cross_val_score\n",
    "from sklearn.ensemble import RandomForestClassifier\n",
    "from sklearn.metrics import accuracy_score,classification_report,confusion_matrix,f1_score,precision_score\n",
    "\n",
    "from imblearn import under_sampling, over_sampling\n",
    "from imblearn.over_sampling import SMOTE\n",
    "from collections import Counter"
   ]
  },
  {
   "cell_type": "code",
   "execution_count": 152,
   "metadata": {},
   "outputs": [],
   "source": [
    "train = pd.read_csv('Train_Set_90621.csv')\n",
    "train = train.drop(['Application ID','Bank Masked','Name Masked','Approved_Timestamp','Term','Male to Female Employees Ratio'],axis=1)\n"
   ]
  },
  {
   "cell_type": "code",
   "execution_count": 153,
   "metadata": {},
   "outputs": [],
   "source": [
    "train['Approved_Year'] = train['Approved_Year'].astype(object)\n",
    "\n",
    "\n",
    "train['New Business'] = train['New Business'].replace(to_replace=2.0,value=0.0)\n",
    "train['New Business'] = train['New Business'].astype(object)\n",
    "\n",
    "train['Interest Rate'] = train['Interest Rate'].astype(object)\n",
    "\n",
    "\n",
    "train['Term_years'] = train['Term_years'].replace(to_replace=1900,value=2011)\n",
    "\n",
    "\n",
    "train['City or Rural'] = train['City or Rural'].replace(to_replace=2,value=0)\n",
    "train['City or Rural'] = train['City or Rural'].astype(object)\n",
    "\n",
    "\n",
    "train['New Business']=train['New Business'].fillna(train['New Business'].mode()[0])\n",
    "\n",
    "train['Bank Type'].fillna(train['Bank Type'].mode()[0],inplace=True)\n",
    "train['Business Owner State'].fillna(train['Business Owner State'].mode()[0],inplace=True)\n",
    "train['BankState'].fillna(train['BankState'].mode()[0],inplace=True)\n",
    "train['Carry-forward Credit'].fillna(train['Carry-forward Credit'].mode()[0],inplace=True)\n",
    "train['Documents Provided'].fillna(train['Documents Provided'].mode()[0],inplace=True)\n",
    "\n",
    "train['Expected Company Income'].fillna(np.mean(train['Expected Company Income']),inplace=True)"
   ]
  },
  {
   "cell_type": "code",
   "execution_count": 154,
   "metadata": {},
   "outputs": [
    {
     "name": "stdout",
     "output_type": "stream",
     "text": [
      "Index(['Business_Industry_Type_Code', 'New Business', 'Employees',\n",
      "       'Gross Disbursed Amount', 'Term_years', 'Jobs Retained',\n",
      "       'Expected Company Income', 'Funds available with company',\n",
      "       'Gross_Apprv_Amount', 'Company Branch Code', 'Jobs Generated',\n",
      "       'Balance Left', 'Amount Defaulted', 'Final_Appved_Amount',\n",
      "       'Default_Status'],\n",
      "      dtype='object')\n",
      "Index(['Bank Type', 'Business Owner State', 'Approved_Year', 'BankState',\n",
      "       'Interest Rate', 'City or Rural', 'Carry-forward Credit',\n",
      "       'Documents Provided'],\n",
      "      dtype='object')\n"
     ]
    }
   ],
   "source": [
    "train_num = train.select_dtypes(include = [np.number])\n",
    "print(train_num.columns)\n",
    "train_cat = train.select_dtypes(include = [np.object])\n",
    "print(train_cat.columns)"
   ]
  },
  {
   "cell_type": "code",
   "execution_count": 155,
   "metadata": {},
   "outputs": [
    {
     "name": "stderr",
     "output_type": "stream",
     "text": [
      "C:\\Users\\aniru\\anaconda3\\lib\\site-packages\\pandas\\core\\frame.py:4163: SettingWithCopyWarning: \n",
      "A value is trying to be set on a copy of a slice from a DataFrame\n",
      "\n",
      "See the caveats in the documentation: https://pandas.pydata.org/pandas-docs/stable/user_guide/indexing.html#returning-a-view-versus-a-copy\n",
      "  return super().drop(\n"
     ]
    }
   ],
   "source": [
    "train_num.drop(['Default_Status'],axis=1,inplace=True)"
   ]
  },
  {
   "cell_type": "code",
   "execution_count": 142,
   "metadata": {},
   "outputs": [
    {
     "data": {
      "text/html": [
       "<div>\n",
       "<style scoped>\n",
       "    .dataframe tbody tr th:only-of-type {\n",
       "        vertical-align: middle;\n",
       "    }\n",
       "\n",
       "    .dataframe tbody tr th {\n",
       "        vertical-align: top;\n",
       "    }\n",
       "\n",
       "    .dataframe thead th {\n",
       "        text-align: right;\n",
       "    }\n",
       "</style>\n",
       "<table border=\"1\" class=\"dataframe\">\n",
       "  <thead>\n",
       "    <tr style=\"text-align: right;\">\n",
       "      <th></th>\n",
       "      <th>Business_Industry_Type_Code</th>\n",
       "      <th>New Business</th>\n",
       "      <th>Employees</th>\n",
       "      <th>Gross Disbursed Amount</th>\n",
       "      <th>Term_years</th>\n",
       "      <th>Jobs Retained</th>\n",
       "      <th>Expected Company Income</th>\n",
       "      <th>Funds available with company</th>\n",
       "      <th>Gross_Apprv_Amount</th>\n",
       "      <th>Company Branch Code</th>\n",
       "      <th>Jobs Generated</th>\n",
       "      <th>Balance Left</th>\n",
       "      <th>Amount Defaulted</th>\n",
       "      <th>Final_Appved_Amount</th>\n",
       "    </tr>\n",
       "  </thead>\n",
       "  <tbody>\n",
       "    <tr>\n",
       "      <th>0</th>\n",
       "      <td>0.564507</td>\n",
       "      <td>1.0</td>\n",
       "      <td>0.00189</td>\n",
       "      <td>0.025323</td>\n",
       "      <td>0.473684</td>\n",
       "      <td>0.002045</td>\n",
       "      <td>0.000081</td>\n",
       "      <td>0.283579</td>\n",
       "      <td>0.052962</td>\n",
       "      <td>0.278804</td>\n",
       "      <td>0.000341</td>\n",
       "      <td>0.0</td>\n",
       "      <td>0.000000</td>\n",
       "      <td>0.044145</td>\n",
       "    </tr>\n",
       "    <tr>\n",
       "      <th>1</th>\n",
       "      <td>0.000001</td>\n",
       "      <td>1.0</td>\n",
       "      <td>0.00090</td>\n",
       "      <td>0.004157</td>\n",
       "      <td>0.157895</td>\n",
       "      <td>0.001136</td>\n",
       "      <td>0.000039</td>\n",
       "      <td>0.723182</td>\n",
       "      <td>0.006960</td>\n",
       "      <td>0.000000</td>\n",
       "      <td>0.000000</td>\n",
       "      <td>0.0</td>\n",
       "      <td>0.016925</td>\n",
       "      <td>0.003867</td>\n",
       "    </tr>\n",
       "    <tr>\n",
       "      <th>2</th>\n",
       "      <td>0.346088</td>\n",
       "      <td>0.0</td>\n",
       "      <td>0.00072</td>\n",
       "      <td>0.002389</td>\n",
       "      <td>0.184211</td>\n",
       "      <td>0.001136</td>\n",
       "      <td>0.000031</td>\n",
       "      <td>0.947222</td>\n",
       "      <td>0.004960</td>\n",
       "      <td>0.000000</td>\n",
       "      <td>0.000227</td>\n",
       "      <td>0.0</td>\n",
       "      <td>0.000000</td>\n",
       "      <td>0.004700</td>\n",
       "    </tr>\n",
       "    <tr>\n",
       "      <th>3</th>\n",
       "      <td>0.000001</td>\n",
       "      <td>1.0</td>\n",
       "      <td>0.00018</td>\n",
       "      <td>0.053034</td>\n",
       "      <td>0.657895</td>\n",
       "      <td>0.000227</td>\n",
       "      <td>0.000008</td>\n",
       "      <td>0.936161</td>\n",
       "      <td>0.110964</td>\n",
       "      <td>0.000011</td>\n",
       "      <td>0.000000</td>\n",
       "      <td>0.0</td>\n",
       "      <td>0.000000</td>\n",
       "      <td>0.092480</td>\n",
       "    </tr>\n",
       "    <tr>\n",
       "      <th>4</th>\n",
       "      <td>0.000001</td>\n",
       "      <td>0.0</td>\n",
       "      <td>0.00018</td>\n",
       "      <td>0.003822</td>\n",
       "      <td>0.342105</td>\n",
       "      <td>0.000000</td>\n",
       "      <td>0.000008</td>\n",
       "      <td>0.951248</td>\n",
       "      <td>0.007960</td>\n",
       "      <td>0.000011</td>\n",
       "      <td>0.000000</td>\n",
       "      <td>0.0</td>\n",
       "      <td>0.000000</td>\n",
       "      <td>0.007534</td>\n",
       "    </tr>\n",
       "  </tbody>\n",
       "</table>\n",
       "</div>"
      ],
      "text/plain": [
       "   Business_Industry_Type_Code  New Business  Employees  \\\n",
       "0                     0.564507           1.0    0.00189   \n",
       "1                     0.000001           1.0    0.00090   \n",
       "2                     0.346088           0.0    0.00072   \n",
       "3                     0.000001           1.0    0.00018   \n",
       "4                     0.000001           0.0    0.00018   \n",
       "\n",
       "   Gross Disbursed Amount  Term_years  Jobs Retained  Expected Company Income  \\\n",
       "0                0.025323    0.473684       0.002045                 0.000081   \n",
       "1                0.004157    0.157895       0.001136                 0.000039   \n",
       "2                0.002389    0.184211       0.001136                 0.000031   \n",
       "3                0.053034    0.657895       0.000227                 0.000008   \n",
       "4                0.003822    0.342105       0.000000                 0.000008   \n",
       "\n",
       "   Funds available with company  Gross_Apprv_Amount  Company Branch Code  \\\n",
       "0                      0.283579            0.052962             0.278804   \n",
       "1                      0.723182            0.006960             0.000000   \n",
       "2                      0.947222            0.004960             0.000000   \n",
       "3                      0.936161            0.110964             0.000011   \n",
       "4                      0.951248            0.007960             0.000011   \n",
       "\n",
       "   Jobs Generated  Balance Left  Amount Defaulted  Final_Appved_Amount  \n",
       "0        0.000341           0.0          0.000000             0.044145  \n",
       "1        0.000000           0.0          0.016925             0.003867  \n",
       "2        0.000227           0.0          0.000000             0.004700  \n",
       "3        0.000000           0.0          0.000000             0.092480  \n",
       "4        0.000000           0.0          0.000000             0.007534  "
      ]
     },
     "execution_count": 142,
     "metadata": {},
     "output_type": "execute_result"
    }
   ],
   "source": [
    "X_norm = MinMaxScaler()\n",
    "\n",
    "num_norm = X_norm.fit_transform(train_num)\n",
    "\n",
    "X = pd.DataFrame(num_norm, columns = train_num.columns)\n",
    "\n",
    "X.head()"
   ]
  },
  {
   "cell_type": "code",
   "execution_count": 156,
   "metadata": {},
   "outputs": [
    {
     "data": {
      "text/plain": [
       "(195118, 52)"
      ]
     },
     "execution_count": 156,
     "metadata": {},
     "output_type": "execute_result"
    }
   ],
   "source": [
    "train_cat = pd.get_dummies(train_cat,drop_first=True)\n",
    "train_cat.shape"
   ]
  },
  {
   "cell_type": "code",
   "execution_count": 157,
   "metadata": {},
   "outputs": [],
   "source": [
    "X = pd.concat([train_num,train_cat],axis=1)"
   ]
  },
  {
   "cell_type": "code",
   "execution_count": 158,
   "metadata": {},
   "outputs": [
    {
     "data": {
      "text/plain": [
       "(195118, 66)"
      ]
     },
     "execution_count": 158,
     "metadata": {},
     "output_type": "execute_result"
    }
   ],
   "source": [
    "X.shape"
   ]
  },
  {
   "cell_type": "code",
   "execution_count": 159,
   "metadata": {},
   "outputs": [],
   "source": [
    "y = train['Default_Status']"
   ]
  },
  {
   "cell_type": "code",
   "execution_count": 53,
   "metadata": {},
   "outputs": [],
   "source": [
    "from statsmodels.stats.outliers_influence import variance_inflation_factor as vif\n",
    "vf=[vif(X_vif.values,i) for i in range(X_vif.shape[1])]\n",
    "vif_df = pd.DataFrame(vf,index=X_vif.columns,columns=['vif'])"
   ]
  },
  {
   "cell_type": "code",
   "execution_count": 54,
   "metadata": {},
   "outputs": [
    {
     "data": {
      "text/html": [
       "<div>\n",
       "<style scoped>\n",
       "    .dataframe tbody tr th:only-of-type {\n",
       "        vertical-align: middle;\n",
       "    }\n",
       "\n",
       "    .dataframe tbody tr th {\n",
       "        vertical-align: top;\n",
       "    }\n",
       "\n",
       "    .dataframe thead th {\n",
       "        text-align: right;\n",
       "    }\n",
       "</style>\n",
       "<table border=\"1\" class=\"dataframe\">\n",
       "  <thead>\n",
       "    <tr style=\"text-align: right;\">\n",
       "      <th></th>\n",
       "      <th>vif</th>\n",
       "    </tr>\n",
       "  </thead>\n",
       "  <tbody>\n",
       "    <tr>\n",
       "      <th>Final_Appved_Amount</th>\n",
       "      <td>10.014972</td>\n",
       "    </tr>\n",
       "    <tr>\n",
       "      <th>Gross Disbursed Amount</th>\n",
       "      <td>9.246669</td>\n",
       "    </tr>\n",
       "    <tr>\n",
       "      <th>Approved_Year_2011</th>\n",
       "      <td>6.787643</td>\n",
       "    </tr>\n",
       "    <tr>\n",
       "      <th>Business Owner State_Karnataka</th>\n",
       "      <td>5.448307</td>\n",
       "    </tr>\n",
       "    <tr>\n",
       "      <th>BankState_Karnataka</th>\n",
       "      <td>5.437317</td>\n",
       "    </tr>\n",
       "    <tr>\n",
       "      <th>...</th>\n",
       "      <td>...</td>\n",
       "    </tr>\n",
       "    <tr>\n",
       "      <th>Company Branch Code</th>\n",
       "      <td>1.027549</td>\n",
       "    </tr>\n",
       "    <tr>\n",
       "      <th>Funds available with company</th>\n",
       "      <td>1.026674</td>\n",
       "    </tr>\n",
       "    <tr>\n",
       "      <th>Jobs Retained</th>\n",
       "      <td>1.002551</td>\n",
       "    </tr>\n",
       "    <tr>\n",
       "      <th>BankState_Goa</th>\n",
       "      <td>1.000644</td>\n",
       "    </tr>\n",
       "    <tr>\n",
       "      <th>Balance Left</th>\n",
       "      <td>1.000208</td>\n",
       "    </tr>\n",
       "  </tbody>\n",
       "</table>\n",
       "<p>63 rows × 1 columns</p>\n",
       "</div>"
      ],
      "text/plain": [
       "                                      vif\n",
       "Final_Appved_Amount             10.014972\n",
       "Gross Disbursed Amount           9.246669\n",
       "Approved_Year_2011               6.787643\n",
       "Business Owner State_Karnataka   5.448307\n",
       "BankState_Karnataka              5.437317\n",
       "...                                   ...\n",
       "Company Branch Code              1.027549\n",
       "Funds available with company     1.026674\n",
       "Jobs Retained                    1.002551\n",
       "BankState_Goa                    1.000644\n",
       "Balance Left                     1.000208\n",
       "\n",
       "[63 rows x 1 columns]"
      ]
     },
     "execution_count": 54,
     "metadata": {},
     "output_type": "execute_result"
    }
   ],
   "source": [
    "vif_df.sort_values(by='vif',ascending=False)"
   ]
  },
  {
   "cell_type": "code",
   "execution_count": 161,
   "metadata": {},
   "outputs": [],
   "source": [
    "X_vif= X.drop(['Jobs Generated','Gross_Apprv_Amount','BankState_Delhi'],axis=1)"
   ]
  },
  {
   "cell_type": "code",
   "execution_count": 82,
   "metadata": {},
   "outputs": [
    {
     "name": "stdout",
     "output_type": "stream",
     "text": [
      "Before Counter({0: 111810, 1: 24772})\n",
      "After Counter({0: 111810, 1: 111810})\n"
     ]
    }
   ],
   "source": [
    "X_train, X_test, y_train, y_test = train_test_split(X_vif, y, test_size=0.3, random_state=42)\n",
    "\n",
    "from imblearn.over_sampling import SMOTE\n",
    "from imblearn import under_sampling, over_sampling\n",
    "from imblearn.over_sampling import SMOTE\n",
    "from collections import Counter\n",
    "\n",
    "counter = Counter(y_train)\n",
    "print('Before',counter)\n",
    "# oversampling the train dataset using SMOTE\n",
    "smt = SMOTE()\n",
    "#X_train, y_train = smt.fit_resample(X_train, y_train)\n",
    "X_train_sm, y_train_sm = smt.fit_resample(X_train, y_train)\n",
    "\n",
    "counter = Counter(y_train_sm)\n",
    "print('After',counter)"
   ]
  },
  {
   "cell_type": "code",
   "execution_count": 135,
   "metadata": {},
   "outputs": [
    {
     "name": "stdout",
     "output_type": "stream",
     "text": [
      "Best parameters for decision tree classifier:  {'criterion': 'gini', 'max_depth': 15, 'max_leaf_nodes': 5, 'min_samples_leaf': 1, 'n_estimators': 100} \n",
      "\n"
     ]
    }
   ],
   "source": [
    "X_train, X_test, y_train, y_test = train_test_split(X_vif, y, test_size=0.3, random_state=42)\n",
    "tuned_paramaters = [{'criterion': ['entropy', 'gini'],\n",
    "                     'n_estimators': [100],\n",
    "                     'max_depth': [15, 20],\n",
    "                     'min_samples_leaf': [1, 5, 9],\n",
    "                     'max_leaf_nodes': [2, 5]}]\n",
    "# instantiate the 'DecisionTreeClassifier' \n",
    "# pass the 'random_state' to obtain the same samples for each time you run the code\n",
    "decision_tree_classification = RandomForestClassifier(random_state = 10)\n",
    "\n",
    "# use GridSearchCV() to find the optimal value of the hyperparameters\n",
    "# estimator: pass the decision tree classifier model\n",
    "# param_grid: pass the list 'tuned_parameters'\n",
    "# cv: number of folds in k-fold i.e. here cv = 5\n",
    "tree_grid = GridSearchCV(estimator = decision_tree_classification, \n",
    "                         param_grid = tuned_paramaters, \n",
    "                         cv = 5)\n",
    "\n",
    "# fit the model on X_train and y_train using fit()\n",
    "tree_grid_model = tree_grid.fit(X_train, y_train)\n",
    "\n",
    "# get the best parameters\n",
    "print('Best parameters for decision tree classifier: ', tree_grid_model.best_params_, '\\n')"
   ]
  },
  {
   "cell_type": "code",
   "execution_count": null,
   "metadata": {},
   "outputs": [],
   "source": []
  },
  {
   "cell_type": "code",
   "execution_count": null,
   "metadata": {},
   "outputs": [],
   "source": []
  },
  {
   "cell_type": "code",
   "execution_count": 163,
   "metadata": {},
   "outputs": [
    {
     "name": "stdout",
     "output_type": "stream",
     "text": [
      "0.835417520841875\n",
      "[[48027    43]\n",
      " [ 9591   875]]\n",
      "              precision    recall  f1-score   support\n",
      "\n",
      "           0       0.83      1.00      0.91     48070\n",
      "           1       0.95      0.08      0.15     10466\n",
      "\n",
      "    accuracy                           0.84     58536\n",
      "   macro avg       0.89      0.54      0.53     58536\n",
      "weighted avg       0.85      0.84      0.77     58536\n",
      "\n"
     ]
    }
   ],
   "source": [
    "X_train, X_test, y_train, y_test = train_test_split(X, y, test_size=0.3, random_state=42)\n",
    "rfc = RandomForestClassifier(n_estimators=100,criterion='gini',max_depth= 15, max_leaf_nodes=5)\n",
    "rfc_model = rfc.fit(X_train,y_train)\n",
    "y_pred = rfc_model.predict(X_test)\n",
    "print(accuracy_score(y_test,y_pred))\n",
    "print(confusion_matrix(y_test,y_pred))\n",
    "print(classification_report(y_test,y_pred))"
   ]
  },
  {
   "cell_type": "code",
   "execution_count": 87,
   "metadata": {},
   "outputs": [],
   "source": [
    "test = pd.read_csv('Test_Set_90621.csv')\n",
    "test = test.drop(['Application ID','Bank Masked','Name Masked','Approved_Timestamp','Term','Male to Female Employees Ratio'],axis=1)\n"
   ]
  },
  {
   "cell_type": "code",
   "execution_count": 88,
   "metadata": {},
   "outputs": [],
   "source": [
    "test['Approved_Year'] = test['Approved_Year'].astype(object)\n",
    "\n",
    "\n",
    "test['New Business'] = test['New Business'].replace(to_replace=2.0,value=0.0)\n",
    "test['New Business'] = test['New Business'].astype(object)\n",
    "\n",
    "\n",
    "test['Interest Rate'] = test['Interest Rate'].replace(to_replace=1,value=2)\n",
    "test['Interest Rate'] = test['Interest Rate'].astype(object)\n",
    "\n",
    "\n",
    "test['Term_years'] = train['Term_years'].replace(to_replace=1900,value=2011)\n",
    "\n",
    "\n",
    "test['City or Rural'] = test['City or Rural'].replace(to_replace=2,value=0)\n",
    "test['City or Rural'] = test['City or Rural'].astype(object)\n",
    "\n",
    "\n",
    "test['New Business']=test['New Business'].fillna(test['New Business'].mode()[0])\n",
    "\n",
    "test['Bank Type'].fillna(test['Bank Type'].mode()[0],inplace=True)\n",
    "test['Business Owner State'].fillna(test['Business Owner State'].mode()[0],inplace=True)\n",
    "test['BankState'].fillna(test['BankState'].mode()[0],inplace=True)\n",
    "test['Carry-forward Credit'].fillna(test['Carry-forward Credit'].mode()[0],inplace=True)\n",
    "test['Documents Provided'].fillna(test['Documents Provided'].mode()[0],inplace=True)\n",
    "\n",
    "test['Expected Company Income'].fillna(np.mean(test['Expected Company Income']),inplace=True)"
   ]
  },
  {
   "cell_type": "code",
   "execution_count": 89,
   "metadata": {},
   "outputs": [
    {
     "data": {
      "text/plain": [
       "(83623, 66)"
      ]
     },
     "execution_count": 89,
     "metadata": {},
     "output_type": "execute_result"
    }
   ],
   "source": [
    "test_df = pd.get_dummies(test,drop_first=True)\n",
    "test_df.shape"
   ]
  },
  {
   "cell_type": "code",
   "execution_count": 90,
   "metadata": {},
   "outputs": [],
   "source": [
    "test_df = test_df.drop(['Jobs Generated','Gross_Apprv_Amount','BankState_Delhi'],axis=1)"
   ]
  },
  {
   "cell_type": "code",
   "execution_count": 136,
   "metadata": {},
   "outputs": [
    {
     "data": {
      "text/plain": [
       "0    83366\n",
       "1      257\n",
       "Name: Default_Status, dtype: int64"
      ]
     },
     "execution_count": 136,
     "metadata": {},
     "output_type": "execute_result"
    }
   ],
   "source": [
    "test = pd.read_csv('Test_Set_90621.csv')\n",
    "y_pred = tree_grid_model.predict(test_df)\n",
    "y_pred_series = pd.Series(y_pred)\n",
    "\n",
    "app = test['Application ID']\n",
    "\n",
    "data = {\"Application ID\": app,\n",
    "        \"Default_Status\": y_pred_series}\n",
    "  \n",
    "# Concatenating the series side\n",
    "# by side as depicted by axis=1\n",
    "# If you want to concatenate the \n",
    "# series one below the other\n",
    "# change the axis to zero.\n",
    "df_samp_rf = pd.concat(data,\n",
    "               axis = 1)\n",
    "  \n",
    "# show the dataframe\n",
    "df_samp_rf.Default_Status.value_counts()"
   ]
  },
  {
   "cell_type": "code",
   "execution_count": 92,
   "metadata": {},
   "outputs": [],
   "source": [
    "df_samp_rf.set_index(\"Application ID\", inplace = True)\n",
    "submission_data_eda = df_samp_rf.to_csv('file_rf_with_sscale_smote_vif.csv', index = True)"
   ]
  },
  {
   "cell_type": "code",
   "execution_count": 94,
   "metadata": {},
   "outputs": [
    {
     "data": {
      "text/html": [
       "<div>\n",
       "<style scoped>\n",
       "    .dataframe tbody tr th:only-of-type {\n",
       "        vertical-align: middle;\n",
       "    }\n",
       "\n",
       "    .dataframe tbody tr th {\n",
       "        vertical-align: top;\n",
       "    }\n",
       "\n",
       "    .dataframe thead th {\n",
       "        text-align: right;\n",
       "    }\n",
       "</style>\n",
       "<table border=\"1\" class=\"dataframe\">\n",
       "  <thead>\n",
       "    <tr style=\"text-align: right;\">\n",
       "      <th></th>\n",
       "      <th>Business_Industry_Type_Code</th>\n",
       "      <th>New Business</th>\n",
       "      <th>Employees</th>\n",
       "      <th>Gross Disbursed Amount</th>\n",
       "      <th>Term_years</th>\n",
       "      <th>Jobs Retained</th>\n",
       "      <th>Expected Company Income</th>\n",
       "      <th>Funds available with company</th>\n",
       "      <th>Company Branch Code</th>\n",
       "      <th>Balance Left</th>\n",
       "      <th>...</th>\n",
       "      <th>Interest Rate_6</th>\n",
       "      <th>Interest Rate_7</th>\n",
       "      <th>Interest Rate_8</th>\n",
       "      <th>Interest Rate_9</th>\n",
       "      <th>Interest Rate_10</th>\n",
       "      <th>Interest Rate_11</th>\n",
       "      <th>Interest Rate_12</th>\n",
       "      <th>City or Rural_1</th>\n",
       "      <th>Carry-forward Credit_Y</th>\n",
       "      <th>Documents Provided_Y</th>\n",
       "    </tr>\n",
       "  </thead>\n",
       "  <tbody>\n",
       "    <tr>\n",
       "      <th>0</th>\n",
       "      <td>0.477820</td>\n",
       "      <td>0.625877</td>\n",
       "      <td>0.175933</td>\n",
       "      <td>0.217007</td>\n",
       "      <td>1.332567</td>\n",
       "      <td>0.026460</td>\n",
       "      <td>-0.084280</td>\n",
       "      <td>-0.732054</td>\n",
       "      <td>1.770622</td>\n",
       "      <td>-0.002318</td>\n",
       "      <td>...</td>\n",
       "      <td>0</td>\n",
       "      <td>0</td>\n",
       "      <td>0</td>\n",
       "      <td>0</td>\n",
       "      <td>0</td>\n",
       "      <td>0</td>\n",
       "      <td>0</td>\n",
       "      <td>1</td>\n",
       "      <td>0</td>\n",
       "      <td>0</td>\n",
       "    </tr>\n",
       "    <tr>\n",
       "      <th>1</th>\n",
       "      <td>-1.508153</td>\n",
       "      <td>0.625877</td>\n",
       "      <td>0.006745</td>\n",
       "      <td>-0.546814</td>\n",
       "      <td>-0.494006</td>\n",
       "      <td>-0.005702</td>\n",
       "      <td>-0.094702</td>\n",
       "      <td>0.902245</td>\n",
       "      <td>-0.218076</td>\n",
       "      <td>-0.002318</td>\n",
       "      <td>...</td>\n",
       "      <td>0</td>\n",
       "      <td>0</td>\n",
       "      <td>0</td>\n",
       "      <td>0</td>\n",
       "      <td>0</td>\n",
       "      <td>0</td>\n",
       "      <td>0</td>\n",
       "      <td>1</td>\n",
       "      <td>1</td>\n",
       "      <td>0</td>\n",
       "    </tr>\n",
       "    <tr>\n",
       "      <th>2</th>\n",
       "      <td>-0.290592</td>\n",
       "      <td>-1.597759</td>\n",
       "      <td>-0.024017</td>\n",
       "      <td>-0.610609</td>\n",
       "      <td>-0.341792</td>\n",
       "      <td>-0.005702</td>\n",
       "      <td>-0.096597</td>\n",
       "      <td>1.735152</td>\n",
       "      <td>-0.218076</td>\n",
       "      <td>-0.002318</td>\n",
       "      <td>...</td>\n",
       "      <td>0</td>\n",
       "      <td>0</td>\n",
       "      <td>1</td>\n",
       "      <td>0</td>\n",
       "      <td>0</td>\n",
       "      <td>0</td>\n",
       "      <td>0</td>\n",
       "      <td>0</td>\n",
       "      <td>1</td>\n",
       "      <td>0</td>\n",
       "    </tr>\n",
       "    <tr>\n",
       "      <th>3</th>\n",
       "      <td>-1.508153</td>\n",
       "      <td>0.625877</td>\n",
       "      <td>-0.116302</td>\n",
       "      <td>1.217044</td>\n",
       "      <td>2.398067</td>\n",
       "      <td>-0.037864</td>\n",
       "      <td>-0.102282</td>\n",
       "      <td>1.694030</td>\n",
       "      <td>-0.217999</td>\n",
       "      <td>-0.002318</td>\n",
       "      <td>...</td>\n",
       "      <td>0</td>\n",
       "      <td>0</td>\n",
       "      <td>1</td>\n",
       "      <td>0</td>\n",
       "      <td>0</td>\n",
       "      <td>0</td>\n",
       "      <td>0</td>\n",
       "      <td>1</td>\n",
       "      <td>0</td>\n",
       "      <td>0</td>\n",
       "    </tr>\n",
       "    <tr>\n",
       "      <th>4</th>\n",
       "      <td>-1.508153</td>\n",
       "      <td>-1.597759</td>\n",
       "      <td>-0.116302</td>\n",
       "      <td>-0.558883</td>\n",
       "      <td>0.571495</td>\n",
       "      <td>-0.045904</td>\n",
       "      <td>-0.102282</td>\n",
       "      <td>1.750119</td>\n",
       "      <td>-0.217999</td>\n",
       "      <td>-0.002318</td>\n",
       "      <td>...</td>\n",
       "      <td>0</td>\n",
       "      <td>0</td>\n",
       "      <td>0</td>\n",
       "      <td>0</td>\n",
       "      <td>0</td>\n",
       "      <td>1</td>\n",
       "      <td>0</td>\n",
       "      <td>0</td>\n",
       "      <td>0</td>\n",
       "      <td>1</td>\n",
       "    </tr>\n",
       "  </tbody>\n",
       "</table>\n",
       "<p>5 rows × 63 columns</p>\n",
       "</div>"
      ],
      "text/plain": [
       "   Business_Industry_Type_Code  New Business  Employees  \\\n",
       "0                     0.477820      0.625877   0.175933   \n",
       "1                    -1.508153      0.625877   0.006745   \n",
       "2                    -0.290592     -1.597759  -0.024017   \n",
       "3                    -1.508153      0.625877  -0.116302   \n",
       "4                    -1.508153     -1.597759  -0.116302   \n",
       "\n",
       "   Gross Disbursed Amount  Term_years  Jobs Retained  Expected Company Income  \\\n",
       "0                0.217007    1.332567       0.026460                -0.084280   \n",
       "1               -0.546814   -0.494006      -0.005702                -0.094702   \n",
       "2               -0.610609   -0.341792      -0.005702                -0.096597   \n",
       "3                1.217044    2.398067      -0.037864                -0.102282   \n",
       "4               -0.558883    0.571495      -0.045904                -0.102282   \n",
       "\n",
       "   Funds available with company  Company Branch Code  Balance Left  ...  \\\n",
       "0                     -0.732054             1.770622     -0.002318  ...   \n",
       "1                      0.902245            -0.218076     -0.002318  ...   \n",
       "2                      1.735152            -0.218076     -0.002318  ...   \n",
       "3                      1.694030            -0.217999     -0.002318  ...   \n",
       "4                      1.750119            -0.217999     -0.002318  ...   \n",
       "\n",
       "   Interest Rate_6  Interest Rate_7  Interest Rate_8  Interest Rate_9  \\\n",
       "0                0                0                0                0   \n",
       "1                0                0                0                0   \n",
       "2                0                0                1                0   \n",
       "3                0                0                1                0   \n",
       "4                0                0                0                0   \n",
       "\n",
       "   Interest Rate_10  Interest Rate_11  Interest Rate_12  City or Rural_1  \\\n",
       "0                 0                 0                 0                1   \n",
       "1                 0                 0                 0                1   \n",
       "2                 0                 0                 0                0   \n",
       "3                 0                 0                 0                1   \n",
       "4                 0                 1                 0                0   \n",
       "\n",
       "   Carry-forward Credit_Y  Documents Provided_Y  \n",
       "0                       0                     0  \n",
       "1                       1                     0  \n",
       "2                       1                     0  \n",
       "3                       0                     0  \n",
       "4                       0                     1  \n",
       "\n",
       "[5 rows x 63 columns]"
      ]
     },
     "execution_count": 94,
     "metadata": {},
     "output_type": "execute_result"
    }
   ],
   "source": [
    "X_vif.head()"
   ]
  },
  {
   "cell_type": "code",
   "execution_count": null,
   "metadata": {},
   "outputs": [],
   "source": []
  },
  {
   "cell_type": "code",
   "execution_count": null,
   "metadata": {},
   "outputs": [],
   "source": []
  },
  {
   "cell_type": "code",
   "execution_count": null,
   "metadata": {},
   "outputs": [],
   "source": []
  },
  {
   "cell_type": "code",
   "execution_count": 98,
   "metadata": {},
   "outputs": [],
   "source": [
    "X_vif = train.drop(['Default_Status'],axis=1) "
   ]
  },
  {
   "cell_type": "code",
   "execution_count": 121,
   "metadata": {},
   "outputs": [
    {
     "name": "stdout",
     "output_type": "stream",
     "text": [
      "Business_Industry_Type_Code       326620.00\n",
      "New Business                           1.00\n",
      "Employees                             14.00\n",
      "Gross Disbursed Amount          13785502.50\n",
      "Term_years                             5.00\n",
      "Jobs Retained                          4.00\n",
      "Expected Company Income          6700000.00\n",
      "Funds available with company     1078786.75\n",
      "Gross_Apprv_Amount              13440000.00\n",
      "Company Branch Code                    0.00\n",
      "Jobs Generated                         1.00\n",
      "Balance Left                           0.00\n",
      "Amount Defaulted                       0.00\n",
      "Final_Appved_Amount             10762500.00\n",
      "dtype: float64\n"
     ]
    },
    {
     "data": {
      "text/plain": [
       "(61866, 14)"
      ]
     },
     "execution_count": 121,
     "metadata": {},
     "output_type": "execute_result"
    }
   ],
   "source": [
    "Q1 = train_num.quantile(0.25)\n",
    "Q3 = train_num.quantile(0.75)\n",
    "IQR = Q3 - Q1\n",
    "print(IQR)\n",
    "\n",
    "df_new = train_num[~((train_num< (Q1 - 1.5 * IQR)) |(train_num> (Q3 + 1.5 * IQR))).any(axis=1)]\n",
    "df_new.shape"
   ]
  },
  {
   "cell_type": "code",
   "execution_count": 122,
   "metadata": {},
   "outputs": [
    {
     "data": {
      "text/plain": [
       "(195118, 66)"
      ]
     },
     "execution_count": 122,
     "metadata": {},
     "output_type": "execute_result"
    }
   ],
   "source": [
    "X = pd.concat([df_new,train_cat],axis=1)\n",
    "X.shape"
   ]
  },
  {
   "cell_type": "code",
   "execution_count": null,
   "metadata": {},
   "outputs": [],
   "source": []
  }
 ],
 "metadata": {
  "kernelspec": {
   "display_name": "Python 3",
   "language": "python",
   "name": "python3"
  },
  "language_info": {
   "codemirror_mode": {
    "name": "ipython",
    "version": 3
   },
   "file_extension": ".py",
   "mimetype": "text/x-python",
   "name": "python",
   "nbconvert_exporter": "python",
   "pygments_lexer": "ipython3",
   "version": "3.8.5"
  }
 },
 "nbformat": 4,
 "nbformat_minor": 4
}
