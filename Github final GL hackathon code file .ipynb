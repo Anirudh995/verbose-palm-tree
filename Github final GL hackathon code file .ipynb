{
 "cells": [
  {
   "cell_type": "code",
   "execution_count": 1,
   "metadata": {},
   "outputs": [],
   "source": [
    "import pandas as pd\n",
    "import numpy as np\n",
    "import matplotlib.pyplot as plt\n",
    "import seaborn as sns\n",
    "from sklearn.preprocessing import LabelEncoder,StandardScaler,MinMaxScaler\n",
    "from sklearn.model_selection import cross_val_score\n",
    "from sklearn.linear_model import LogisticRegression\n",
    "from sklearn.neighbors import KNeighborsClassifier\n",
    "from sklearn import metrics\n",
    "from sklearn.model_selection import train_test_split,GridSearchCV,cross_val_score\n",
    "from sklearn.ensemble import RandomForestClassifier\n",
    "from sklearn.metrics import accuracy_score,classification_report,confusion_matrix,f1_score,precision_score\n",
    "\n",
    "from imblearn import under_sampling, over_sampling\n",
    "from imblearn.over_sampling import SMOTE\n",
    "from collections import Counter"
   ]
  },
  {
   "cell_type": "code",
   "execution_count": 2,
   "metadata": {},
   "outputs": [],
   "source": [
    "#load dataSet and remove unwanted columns\n",
    "train = pd.read_csv('Train_Set_90621.csv')\n",
    "train = train.drop(['Application ID','Bank Masked','Name Masked','Approved_Timestamp','Term','Male to Female Employees Ratio'],axis=1)\n"
   ]
  },
  {
   "cell_type": "code",
   "execution_count": 3,
   "metadata": {},
   "outputs": [],
   "source": [
    "#perform eda\n",
    "train['Approved_Year'] = train['Approved_Year'].astype(object)\n",
    "\n",
    "\n",
    "train['New Business'] = train['New Business'].replace(to_replace=2.0,value=0.0)\n",
    "train['New Business'] = train['New Business'].astype(object)\n",
    "\n",
    "train['Interest Rate'] = train['Interest Rate'].astype(object)\n",
    "\n",
    "\n",
    "train['Term_years'] = train['Term_years'].replace(to_replace=1900,value=2011)\n",
    "\n",
    "\n",
    "train['City or Rural'] = train['City or Rural'].replace(to_replace=2,value=0)\n",
    "train['City or Rural'] = train['City or Rural'].astype(object)\n",
    "\n",
    "\n",
    "train['New Business']=train['New Business'].fillna(train['New Business'].mode()[0])\n",
    "\n",
    "train['Bank Type'].fillna(train['Bank Type'].mode()[0],inplace=True)\n",
    "train['Business Owner State'].fillna(train['Business Owner State'].mode()[0],inplace=True)\n",
    "train['BankState'].fillna(train['BankState'].mode()[0],inplace=True)\n",
    "train['Carry-forward Credit'].fillna(train['Carry-forward Credit'].mode()[0],inplace=True)\n",
    "train['Documents Provided'].fillna(train['Documents Provided'].mode()[0],inplace=True)\n",
    "\n",
    "train['Expected Company Income'].fillna(np.mean(train['Expected Company Income']),inplace=True)"
   ]
  },
  {
   "cell_type": "code",
   "execution_count": 4,
   "metadata": {},
   "outputs": [
    {
     "name": "stdout",
     "output_type": "stream",
     "text": [
      "Index(['Business_Industry_Type_Code', 'New Business', 'Employees',\n",
      "       'Gross Disbursed Amount', 'Term_years', 'Jobs Retained',\n",
      "       'Expected Company Income', 'Funds available with company',\n",
      "       'Gross_Apprv_Amount', 'Company Branch Code', 'Jobs Generated',\n",
      "       'Balance Left', 'Amount Defaulted', 'Final_Appved_Amount',\n",
      "       'Default_Status'],\n",
      "      dtype='object')\n",
      "Index(['Bank Type', 'Business Owner State', 'Approved_Year', 'BankState',\n",
      "       'Interest Rate', 'City or Rural', 'Carry-forward Credit',\n",
      "       'Documents Provided'],\n",
      "      dtype='object')\n"
     ]
    }
   ],
   "source": [
    "train_num = train.select_dtypes(include = [np.number])\n",
    "print(train_num.columns)\n",
    "train_cat = train.select_dtypes(include = [np.object])\n",
    "print(train_cat.columns)"
   ]
  },
  {
   "cell_type": "code",
   "execution_count": 5,
   "metadata": {},
   "outputs": [
    {
     "name": "stderr",
     "output_type": "stream",
     "text": [
      "C:\\Users\\aniru\\anaconda3\\lib\\site-packages\\pandas\\core\\frame.py:4163: SettingWithCopyWarning: \n",
      "A value is trying to be set on a copy of a slice from a DataFrame\n",
      "\n",
      "See the caveats in the documentation: https://pandas.pydata.org/pandas-docs/stable/user_guide/indexing.html#returning-a-view-versus-a-copy\n",
      "  return super().drop(\n"
     ]
    }
   ],
   "source": [
    "train_num.drop(['Default_Status'],axis=1,inplace=True)"
   ]
  },
  {
   "cell_type": "code",
   "execution_count": 6,
   "metadata": {},
   "outputs": [
    {
     "data": {
      "text/plain": [
       "(195118, 52)"
      ]
     },
     "execution_count": 6,
     "metadata": {},
     "output_type": "execute_result"
    }
   ],
   "source": [
    "train_cat = pd.get_dummies(train_cat,drop_first=True)\n",
    "train_cat.shape"
   ]
  },
  {
   "cell_type": "code",
   "execution_count": 7,
   "metadata": {},
   "outputs": [],
   "source": [
    "X = pd.concat([train_num,train_cat],axis=1)"
   ]
  },
  {
   "cell_type": "code",
   "execution_count": 8,
   "metadata": {},
   "outputs": [
    {
     "data": {
      "text/plain": [
       "(195118, 66)"
      ]
     },
     "execution_count": 8,
     "metadata": {},
     "output_type": "execute_result"
    }
   ],
   "source": [
    "X.shape"
   ]
  },
  {
   "cell_type": "code",
   "execution_count": 9,
   "metadata": {},
   "outputs": [],
   "source": [
    "y = train['Default_Status']"
   ]
  },
  {
   "cell_type": "code",
   "execution_count": 53,
   "metadata": {},
   "outputs": [],
   "source": [
    "from statsmodels.stats.outliers_influence import variance_inflation_factor as vif\n",
    "vf=[vif(X_vif.values,i) for i in range(X_vif.shape[1])]\n",
    "vif_df = pd.DataFrame(vf,index=X_vif.columns,columns=['vif'])"
   ]
  },
  {
   "cell_type": "code",
   "execution_count": 54,
   "metadata": {},
   "outputs": [
    {
     "data": {
      "text/html": [
       "<div>\n",
       "<style scoped>\n",
       "    .dataframe tbody tr th:only-of-type {\n",
       "        vertical-align: middle;\n",
       "    }\n",
       "\n",
       "    .dataframe tbody tr th {\n",
       "        vertical-align: top;\n",
       "    }\n",
       "\n",
       "    .dataframe thead th {\n",
       "        text-align: right;\n",
       "    }\n",
       "</style>\n",
       "<table border=\"1\" class=\"dataframe\">\n",
       "  <thead>\n",
       "    <tr style=\"text-align: right;\">\n",
       "      <th></th>\n",
       "      <th>vif</th>\n",
       "    </tr>\n",
       "  </thead>\n",
       "  <tbody>\n",
       "    <tr>\n",
       "      <th>Final_Appved_Amount</th>\n",
       "      <td>10.014972</td>\n",
       "    </tr>\n",
       "    <tr>\n",
       "      <th>Gross Disbursed Amount</th>\n",
       "      <td>9.246669</td>\n",
       "    </tr>\n",
       "    <tr>\n",
       "      <th>Approved_Year_2011</th>\n",
       "      <td>6.787643</td>\n",
       "    </tr>\n",
       "    <tr>\n",
       "      <th>Business Owner State_Karnataka</th>\n",
       "      <td>5.448307</td>\n",
       "    </tr>\n",
       "    <tr>\n",
       "      <th>BankState_Karnataka</th>\n",
       "      <td>5.437317</td>\n",
       "    </tr>\n",
       "    <tr>\n",
       "      <th>...</th>\n",
       "      <td>...</td>\n",
       "    </tr>\n",
       "    <tr>\n",
       "      <th>Company Branch Code</th>\n",
       "      <td>1.027549</td>\n",
       "    </tr>\n",
       "    <tr>\n",
       "      <th>Funds available with company</th>\n",
       "      <td>1.026674</td>\n",
       "    </tr>\n",
       "    <tr>\n",
       "      <th>Jobs Retained</th>\n",
       "      <td>1.002551</td>\n",
       "    </tr>\n",
       "    <tr>\n",
       "      <th>BankState_Goa</th>\n",
       "      <td>1.000644</td>\n",
       "    </tr>\n",
       "    <tr>\n",
       "      <th>Balance Left</th>\n",
       "      <td>1.000208</td>\n",
       "    </tr>\n",
       "  </tbody>\n",
       "</table>\n",
       "<p>63 rows × 1 columns</p>\n",
       "</div>"
      ],
      "text/plain": [
       "                                      vif\n",
       "Final_Appved_Amount             10.014972\n",
       "Gross Disbursed Amount           9.246669\n",
       "Approved_Year_2011               6.787643\n",
       "Business Owner State_Karnataka   5.448307\n",
       "BankState_Karnataka              5.437317\n",
       "...                                   ...\n",
       "Company Branch Code              1.027549\n",
       "Funds available with company     1.026674\n",
       "Jobs Retained                    1.002551\n",
       "BankState_Goa                    1.000644\n",
       "Balance Left                     1.000208\n",
       "\n",
       "[63 rows x 1 columns]"
      ]
     },
     "execution_count": 54,
     "metadata": {},
     "output_type": "execute_result"
    }
   ],
   "source": [
    "vif_df.sort_values(by='vif',ascending=False)"
   ]
  },
  {
   "cell_type": "code",
   "execution_count": 10,
   "metadata": {},
   "outputs": [],
   "source": [
    "X_vif= X.drop(['Jobs Generated','Gross_Apprv_Amount','BankState_Delhi'],axis=1)"
   ]
  },
  {
   "cell_type": "code",
   "execution_count": null,
   "metadata": {},
   "outputs": [],
   "source": []
  },
  {
   "cell_type": "code",
   "execution_count": null,
   "metadata": {},
   "outputs": [],
   "source": []
  },
  {
   "cell_type": "code",
   "execution_count": 16,
   "metadata": {},
   "outputs": [
    {
     "name": "stdout",
     "output_type": "stream",
     "text": [
      "0.9327251605849392\n",
      "[[47833   237]\n",
      " [ 3701  6765]]\n",
      "              precision    recall  f1-score   support\n",
      "\n",
      "           0       0.93      1.00      0.96     48070\n",
      "           1       0.97      0.65      0.77     10466\n",
      "\n",
      "    accuracy                           0.93     58536\n",
      "   macro avg       0.95      0.82      0.87     58536\n",
      "weighted avg       0.93      0.93      0.93     58536\n",
      "\n"
     ]
    }
   ],
   "source": [
    "X_train, X_test, y_train, y_test = train_test_split(X_vif, y, test_size=0.3, random_state=42)\n",
    "rfc = RandomForestClassifier(n_jobs=3,n_estimators=500,criterion='entropy')\n",
    "rfc_model = rfc.fit(X_train,y_train)\n",
    "y_pred = rfc_model.predict(X_test)\n",
    "print(accuracy_score(y_test,y_pred))\n",
    "print(confusion_matrix(y_test,y_pred))\n",
    "print(classification_report(y_test,y_pred))"
   ]
  },
  {
   "cell_type": "code",
   "execution_count": 17,
   "metadata": {},
   "outputs": [],
   "source": [
    "test = pd.read_csv('Test_Set_90621.csv')\n",
    "test = test.drop(['Application ID','Bank Masked','Name Masked','Approved_Timestamp','Term','Male to Female Employees Ratio'],axis=1)\n"
   ]
  },
  {
   "cell_type": "code",
   "execution_count": 18,
   "metadata": {},
   "outputs": [],
   "source": [
    "test['Approved_Year'] = test['Approved_Year'].astype(object)\n",
    "\n",
    "\n",
    "test['New Business'] = test['New Business'].replace(to_replace=2.0,value=0.0)\n",
    "test['New Business'] = test['New Business'].astype(object)\n",
    "\n",
    "\n",
    "test['Interest Rate'] = test['Interest Rate'].replace(to_replace=1,value=2)\n",
    "test['Interest Rate'] = test['Interest Rate'].astype(object)\n",
    "\n",
    "\n",
    "test['Term_years'] = train['Term_years'].replace(to_replace=1900,value=2011)\n",
    "\n",
    "\n",
    "test['City or Rural'] = test['City or Rural'].replace(to_replace=2,value=0)\n",
    "test['City or Rural'] = test['City or Rural'].astype(object)\n",
    "\n",
    "\n",
    "test['New Business']=test['New Business'].fillna(test['New Business'].mode()[0])\n",
    "\n",
    "test['Bank Type'].fillna(test['Bank Type'].mode()[0],inplace=True)\n",
    "test['Business Owner State'].fillna(test['Business Owner State'].mode()[0],inplace=True)\n",
    "test['BankState'].fillna(test['BankState'].mode()[0],inplace=True)\n",
    "test['Carry-forward Credit'].fillna(test['Carry-forward Credit'].mode()[0],inplace=True)\n",
    "test['Documents Provided'].fillna(test['Documents Provided'].mode()[0],inplace=True)\n",
    "\n",
    "test['Expected Company Income'].fillna(np.mean(test['Expected Company Income']),inplace=True)"
   ]
  },
  {
   "cell_type": "code",
   "execution_count": 19,
   "metadata": {},
   "outputs": [
    {
     "data": {
      "text/plain": [
       "(83623, 66)"
      ]
     },
     "execution_count": 19,
     "metadata": {},
     "output_type": "execute_result"
    }
   ],
   "source": [
    "test_df = pd.get_dummies(test,drop_first=True)\n",
    "test_df.shape"
   ]
  },
  {
   "cell_type": "code",
   "execution_count": 20,
   "metadata": {},
   "outputs": [],
   "source": [
    "test_df = test_df.drop(['Jobs Generated','Gross_Apprv_Amount','BankState_Delhi'],axis=1)"
   ]
  },
  {
   "cell_type": "code",
   "execution_count": 21,
   "metadata": {},
   "outputs": [
    {
     "data": {
      "text/plain": [
       "0    73483\n",
       "1    10140\n",
       "Name: Default_Status, dtype: int64"
      ]
     },
     "execution_count": 21,
     "metadata": {},
     "output_type": "execute_result"
    }
   ],
   "source": [
    "test = pd.read_csv('Test_Set_90621.csv')\n",
    "y_pred = rfc_model.predict(test_df)\n",
    "y_pred_series = pd.Series(y_pred)\n",
    "\n",
    "app = test['Application ID']\n",
    "\n",
    "data = {\"Application ID\": app,\n",
    "        \"Default_Status\": y_pred_series}\n",
    "  \n",
    "# Concatenating the series side\n",
    "# by side as depicted by axis=1\n",
    "# If you want to concatenate the \n",
    "# series one below the other\n",
    "# change the axis to zero.\n",
    "df_samp_rf = pd.concat(data,\n",
    "               axis = 1)\n",
    "  \n",
    "# show the dataframe\n",
    "df_samp_rf.Default_Status.value_counts()"
   ]
  },
  {
   "cell_type": "code",
   "execution_count": 22,
   "metadata": {},
   "outputs": [],
   "source": [
    "df_samp_rf.set_index(\"Application ID\", inplace = True)\n",
    "submission_data_eda = df_samp_rf.to_csv('final_GHfile_rf_vif.csv', index = True)"
   ]
  }
 ],
 "metadata": {
  "kernelspec": {
   "display_name": "Python 3",
   "language": "python",
   "name": "python3"
  },
  "language_info": {
   "codemirror_mode": {
    "name": "ipython",
    "version": 3
   },
   "file_extension": ".py",
   "mimetype": "text/x-python",
   "name": "python",
   "nbconvert_exporter": "python",
   "pygments_lexer": "ipython3",
   "version": "3.8.5"
  }
 },
 "nbformat": 4,
 "nbformat_minor": 4
}
